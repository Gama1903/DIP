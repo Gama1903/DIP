{
 "cells": [
  {
   "cell_type": "code",
   "execution_count": 2,
   "id": "30a67f40",
   "metadata": {
    "ExecuteTime": {
     "end_time": "2022-10-09T01:58:05.053247Z",
     "start_time": "2022-10-09T01:58:04.798435Z"
    }
   },
   "outputs": [],
   "source": [
    "import cv2\n",
    "\n",
    "\n",
    "def cv_show(name, img):\n",
    "    cv2.imshow(name, img)\n",
    "    cv2.waitKey(0)\n",
    "    cv2.destroyAllWindows()"
   ]
  },
  {
   "cell_type": "code",
   "execution_count": 8,
   "id": "2cdc37e1",
   "metadata": {
    "ExecuteTime": {
     "end_time": "2022-10-09T02:01:46.705783Z",
     "start_time": "2022-10-09T02:01:46.680846Z"
    }
   },
   "outputs": [
    {
     "data": {
      "text/plain": [
       "<function blur>"
      ]
     },
     "execution_count": 8,
     "metadata": {},
     "output_type": "execute_result"
    }
   ],
   "source": [
    "cv2.blur"
   ]
  }
 ],
 "metadata": {
  "kernelspec": {
   "display_name": "Python [conda env:DIP_1]",
   "language": "python",
   "name": "conda-env-DIP_1-py"
  },
  "language_info": {
   "codemirror_mode": {
    "name": "ipython",
    "version": 3
   },
   "file_extension": ".py",
   "mimetype": "text/x-python",
   "name": "python",
   "nbconvert_exporter": "python",
   "pygments_lexer": "ipython3",
   "version": "3.8.13"
  },
  "notify_time": "5"
 },
 "nbformat": 4,
 "nbformat_minor": 5
}
